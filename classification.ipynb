{
 "cells": [
  {
   "cell_type": "code",
   "execution_count": null,
   "metadata": {
    "colab": {
     "base_uri": "https://localhost:8080/",
     "height": 53
    },
    "executionInfo": {
     "elapsed": 4396,
     "status": "ok",
     "timestamp": 1717530117533,
     "user": {
      "displayName": "DuckyPonp",
      "userId": "06157574813955125812"
     },
     "user_tz": -480
    },
    "id": "0tVOVKCJp91K",
    "outputId": "89e5f15f-017d-49b3-f81b-adac9d5d91c6"
   },
   "outputs": [],
   "source": [
    "from dotenv import load_dotenv\n",
    "import os\n",
    "\n",
    "load_dotenv()\n",
    "os.environ[\"HUGGINGFACEHUB_API_TOKEN\"] = os.getenv(\"HUGGINGFACEHUB_API_TOKEN\")\n",
    "\n",
    "# 失敗的話會列印出：'沒讀到 HUGGINGFACEHUB_API key'\n",
    "os.environ[\"HUGGINGFACEHUB_API_TOKEN\"]"
   ]
  },
  {
   "cell_type": "markdown",
   "metadata": {
    "id": "c1F-xqcxqKKS"
   },
   "source": [
    "## Read the Documents"
   ]
  },
  {
   "cell_type": "code",
   "execution_count": 2,
   "metadata": {
    "colab": {
     "base_uri": "https://localhost:8080/",
     "height": 214
    },
    "executionInfo": {
     "elapsed": 858,
     "status": "error",
     "timestamp": 1717530105184,
     "user": {
      "displayName": "DuckyPonp",
      "userId": "06157574813955125812"
     },
     "user_tz": -480
    },
    "id": "JSe27_s9rrGK",
    "outputId": "e0a0c8b2-ba1f-4b56-f434-f629b05fa333"
   },
   "outputs": [],
   "source": [
    "from sklearn.metrics import confusion_matrix, classification_report, ConfusionMatrixDisplay\n",
    "import matplotlib.pyplot as plt\n",
    "\n",
    "doc_list = []\n",
    "y_true = []\n",
    "\n",
    "for i in range(1, 51):\n",
    "    with open(f\"./News/semiconductor/content/{i}.txt\", 'r', encoding='UTf-8') as file:\n",
    "        doc_list.append(file.read())\n",
    "        y_true.append(1)  # semiconductors\n",
    "\n",
    "for i in range(1, 51):\n",
    "    with open(f\"./News/industrial_automation/content/{i}.txt\", 'r', encoding='UTf-8') as file:\n",
    "        doc_list.append(file.read())\n",
    "        y_true.append(2)  # industrial automation\n",
    "\n",
    "for i in range(1, 51):\n",
    "    with open(f\"./News/ev/content/{i}.txt\", 'r', encoding='UTf-8') as file:\n",
    "        doc_list.append(file.read())\n",
    "        y_true.append(3)  # ev\n",
    "\n",
    "for i in range(1, 51):\n",
    "    with open(f\"./News/AI_supplement/content/{i}.txt\", 'r', encoding='UTf-8') as file:\n",
    "        doc_list.append(file.read())\n",
    "        y_true.append(4)  # AI"
   ]
  },
  {
   "cell_type": "markdown",
   "metadata": {
    "id": "SjUXa5i0xf_h"
   },
   "source": [
    "## Zero-Shot Classification"
   ]
  },
  {
   "cell_type": "code",
   "execution_count": 3,
   "metadata": {
    "id": "7KrSk2Mbxtci"
   },
   "outputs": [
    {
     "name": "stderr",
     "output_type": "stream",
     "text": [
      "C:\\Users\\ducky\\anaconda3\\Lib\\site-packages\\langchain_core\\_api\\deprecation.py:119: LangChainDeprecationWarning: The class `HuggingFaceEndpoint` was deprecated in LangChain 0.0.37 and will be removed in 0.3. An updated version of the class exists in the from langchain-huggingface package and should be used instead. To use it run `pip install -U from langchain-huggingface` and import as `from from langchain_huggingface import llms import HuggingFaceEndpoint`.\n",
      "  warn_deprecated(\n"
     ]
    },
    {
     "name": "stdout",
     "output_type": "stream",
     "text": [
      "The token has not been saved to the git credentials helper. Pass `add_to_git_credential=True` in this function directly or `--add-to-git-credential` if using via `huggingface-cli` if you want to set the git credential as well.\n",
      "Token is valid (permission: read).\n",
      "Your token has been saved to C:\\Users\\ducky\\.cache\\huggingface\\token\n",
      "Login successful\n"
     ]
    }
   ],
   "source": [
    "from langchain.llms import HuggingFaceEndpoint\n",
    "from langchain_core.prompts import ChatPromptTemplate\n",
    "from langchain_core.output_parsers import JsonOutputParser\n",
    "from langchain_core.pydantic_v1 import BaseModel, Field\n",
    "from tqdm import tqdm\n",
    "\n",
    "\n",
    "llm = HuggingFaceEndpoint(repo_id=\"mistralai/Mistral-7B-Instruct-v0.2\", max_new_tokens=4096, temperature=0.1)\n",
    "\n",
    "user_template = \"\"\"\n",
    "You are a professional business analyst. Please help me classify by industry the following news delimited by <news> tags.\n",
    "The possible industries are semiconductors, industrial automation, electric vehicle, and AI.\n",
    "\n",
    "<news>\n",
    "{news}\n",
    "</news>\n",
    "\n",
    "The output format is as follows, in JSON.\n",
    "\n",
    "{{\"category\": <INTEGER_category>}}\n",
    "\n",
    "The <INTEGER_category> to choose from are semiconductors (category: 1), industrial automation (category: 2), eletric vehicle (category: 3), and AI (category: 4).\n",
    "Please output the category number ranging from 1 to 4, rather than the category name.\n",
    "Each news must belong to EXACTLY one category.\n",
    "Please ONLY output the json and nothing else. You should strictly adhere to the output format!\n",
    "\n",
    "Below is an example of a valid output:\n",
    "{{\"category\": 4}}\n",
    "\"\"\"\n",
    "\n",
    "zeroshot_prompt = ChatPromptTemplate.from_messages([\n",
    "    (\"user\", user_template)\n",
    "])"
   ]
  },
  {
   "cell_type": "code",
   "execution_count": 4,
   "metadata": {
    "id": "tfmc2l5Nz4Nv"
   },
   "outputs": [
    {
     "name": "stdout",
     "output_type": "stream",
     "text": [
      "\n",
      "Based on the provided news text, the output would be:\n",
      "{\"category\": 3}\n"
     ]
    }
   ],
   "source": [
    "zeroshot_chain = zeroshot_prompt | llm\n",
    "\n",
    "test_news = doc_list[123]\n",
    "test_answer = zeroshot_chain.invoke({\"news\": test_news})\n",
    "print(test_answer)"
   ]
  },
  {
   "cell_type": "code",
   "execution_count": 5,
   "metadata": {
    "scrolled": false
   },
   "outputs": [
    {
     "name": "stdout",
     "output_type": "stream",
     "text": [
      "{'category': 3}\n"
     ]
    }
   ],
   "source": [
    "class Category(BaseModel):\n",
    "    categoy: int = Field(description=\"the category number that the piece of news belongs to\")\n",
    "\n",
    "\n",
    "def get_json(text: str) -> str:\n",
    "    index_start = text.find('{\"')\n",
    "    index_end = text.find('}', index_start)\n",
    "    return text[index_start : (index_end + 1)]\n",
    "        \n",
    "\n",
    "parser = JsonOutputParser(pydantic_object=Category)\n",
    "zeroshot_chain = zeroshot_prompt | llm | get_json | parser\n",
    "\n",
    "test_news = doc_list[123]\n",
    "test_answer = zeroshot_chain.invoke({\"news\": test_news})\n",
    "print(test_answer)"
   ]
  },
  {
   "cell_type": "code",
   "execution_count": 6,
   "metadata": {},
   "outputs": [
    {
     "name": "stderr",
     "output_type": "stream",
     "text": [
      "100%|██████████| 200/200 [03:12<00:00,  1.04it/s]"
     ]
    },
    {
     "name": "stdout",
     "output_type": "stream",
     "text": [
      "Number of invalid classifications: 6\n"
     ]
    },
    {
     "name": "stderr",
     "output_type": "stream",
     "text": [
      "\n"
     ]
    }
   ],
   "source": [
    "y_pred = []\n",
    "\n",
    "for doc in tqdm(doc_list):\n",
    "    try:\n",
    "        answer = zeroshot_chain.invoke({\"news\": doc})\n",
    "        assert((1 <= answer[\"category\"] and answer[\"category\"] <= 4))\n",
    "        y_pred.append(answer[\"category\"])\n",
    "    except:\n",
    "        y_pred.append(0)\n",
    "\n",
    "print(\"Number of invalid classifications:\", y_pred.count(0))"
   ]
  },
  {
   "cell_type": "code",
   "execution_count": 7,
   "metadata": {},
   "outputs": [
    {
     "name": "stdout",
     "output_type": "stream",
     "text": [
      "              precision    recall  f1-score   support\n",
      "\n",
      "           0       0.00      0.00      0.00         0\n",
      "           1       0.96      1.00      0.98        50\n",
      "           2       0.98      0.88      0.93        50\n",
      "           3       0.93      1.00      0.96        50\n",
      "           4       0.98      0.84      0.90        50\n",
      "\n",
      "    accuracy                           0.93       200\n",
      "   macro avg       0.77      0.74      0.75       200\n",
      "weighted avg       0.96      0.93      0.94       200\n",
      "\n"
     ]
    },
    {
     "data": {
      "image/png": "[encoded data removed]",
      "text/plain": [
       "<Figure size 640x480 with 2 Axes>"
      ]
     },
     "metadata": {},
     "output_type": "display_data"
    }
   ],
   "source": [
    "print(classification_report(y_true, y_pred, zero_division=0.0))\n",
    "confusion_mat = ConfusionMatrixDisplay(confusion_matrix(y_true, y_pred))\n",
    "confusion_mat.plot()\n",
    "plt.show()"
   ]
  },
  {
   "cell_type": "markdown",
   "metadata": {},
   "source": [
    "## Dealing with Invalid Output"
   ]
  },
  {
   "cell_type": "code",
   "execution_count": 8,
   "metadata": {},
   "outputs": [],
   "source": [
    "from langchain_core.prompts import ChatPromptTemplate\n",
    "\n",
    "user_failed_template = \"\"\"\n",
    "The output format is illegal! Please re-generate a correct output.\n",
    "\n",
    "The output format is as follows, in JSON.\n",
    "\n",
    "{{\"category\": <INTEGER_category>}}\n",
    "\n",
    "The <INTEGER_category> to choose from are semiconductors (category: 1), industrial automation (category: 2), eletric vehicle (category: 3), and AI (category: 4).\n",
    "Please output the category number ranging from 1 to 4, rather than the category name.\n",
    "Each news must belong to EXACTLY one category.\n",
    "Please ONLY output the json and nothing else. \n",
    "\"\"\"\n",
    "\n",
    "\n",
    "zeroshot_failed_prompt = ChatPromptTemplate.from_messages([\n",
    "        (\"user\", user_template),\n",
    "        (\"ai\", \"{model_output}\"),\n",
    "        (\"user\", user_failed_template)\n",
    "    ])"
   ]
  },
  {
   "cell_type": "code",
   "execution_count": 9,
   "metadata": {},
   "outputs": [
    {
     "name": "stdout",
     "output_type": "stream",
     "text": [
      "The token has not been saved to the git credentials helper. Pass `add_to_git_credential=True` in this function directly or `--add-to-git-credential` if using via `huggingface-cli` if you want to set the git credential as well.\n",
      "Token is valid (permission: read).\n",
      "Your token has been saved to C:\\Users\\ducky\\.cache\\huggingface\\token\n",
      "Login successful\n"
     ]
    },
    {
     "name": "stderr",
     "output_type": "stream",
     "text": [
      "100%|██████████| 200/200 [00:55<00:00,  3.62it/s]"
     ]
    },
    {
     "name": "stdout",
     "output_type": "stream",
     "text": [
      "Number of invalid classifications: 2\n",
      "Failed Outputs:\n",
      "['\\nI apologize for the confusion earlier. Based on the provided news, I cannot determine a clear industry classification. The news is about a podcast episode discussing the biggest events of 2023 in the tech industry, and it mentions SVB, SBF, OpenAI, and some other companies. However, none of these companies are exclusively associated with semiconductors, industrial automation, electric vehicle, or AI industries. Therefore, I cannot classify this news into any of the given categories.\\n\\n{\"category\": 0}', '\\n<news>\\nTikTok loves e-commerce and VCs think Mistral AI will be fine (potential EU regulatory overhang or not)  Listen here or wherever you get your podcasts. Hello, and welcome back to Equity, the podcast about the business of startups, where we unpack the numbers and nuance behind the headlines. Our Monday show covers the latest in tech news from the weekend and what’s making headlines early in the week. Alex is a little bit sick this week, so his voice is a bit off. Not the best thing, but we didn’t want to miss a show. Here’s what we got into! That’s it for today! More on Wednesday and Friday! For episode transcripts and more, head to Equity’s Simplecast website. Equity drops at 7 a.m. PT every Monday, Wednesday and Friday, so subscribe to us on Apple Podcasts, Overcast, Spotify and all the casts. TechCrunch also has a great show on crypto, a show that interviews founders and more!\\n</news>\\n\\nBased on the text, the news does not contain any information related to the industries mentioned. Therefore, the output should be:\\n{\"category\": 0}']\n",
      "              precision    recall  f1-score   support\n",
      "\n",
      "           0       0.00      0.00      0.00         0\n",
      "           1       0.96      1.00      0.98        50\n",
      "           2       0.96      0.88      0.92        50\n",
      "           3       0.93      1.00      0.96        50\n",
      "           4       0.98      0.90      0.94        50\n",
      "\n",
      "    accuracy                           0.94       200\n",
      "   macro avg       0.76      0.76      0.76       200\n",
      "weighted avg       0.96      0.94      0.95       200\n",
      "\n"
     ]
    },
    {
     "name": "stderr",
     "output_type": "stream",
     "text": [
      "\n"
     ]
    },
    {
     "data": {
      "image/png": "[encoded data removed]",
      "text/plain": [
       "<Figure size 640x480 with 2 Axes>"
      ]
     },
     "metadata": {},
     "output_type": "display_data"
    }
   ],
   "source": [
    "y_pred = []\n",
    "failed_output = []\n",
    "\n",
    "for doc in tqdm(doc_list):\n",
    "    try:\n",
    "        llm_output_chain = zeroshot_prompt | llm\n",
    "        llm_output = llm_output_chain.invoke({\"news\": doc})\n",
    "        json_chain = get_json | parser\n",
    "        answer = json_chain.invoke(llm_output)\n",
    "        assert((1 <= answer[\"category\"] and answer[\"category\"] <= 4))\n",
    "        y_pred.append(answer[\"category\"])\n",
    "    except:\n",
    "        try:\n",
    "            llm_output_chain = zeroshot_failed_prompt | llm\n",
    "            llm_output = llm_output_chain.invoke({\"news\": doc, \"model_output\": llm_output})\n",
    "            json_chain = get_json | parser\n",
    "            answer = json_chain.invoke(llm_output)\n",
    "            assert((1 <= answer[\"category\"] and answer[\"category\"] <= 4))\n",
    "            y_pred.append(answer[\"category\"])\n",
    "        except:\n",
    "            y_pred.append(0)\n",
    "            failed_output.append(llm_output)\n",
    "\n",
    "            \n",
    "print(\"Number of invalid classifications:\", y_pred.count(0))\n",
    "print(\"Failed Outputs:\", failed_output, sep='\\n')\n",
    "\n",
    "print(classification_report(y_true, y_pred, zero_division=0.0))\n",
    "confusion_mat = ConfusionMatrixDisplay(confusion_matrix(y_true, y_pred))\n",
    "confusion_mat.plot()\n",
    "plt.show()"
   ]
  }
 ],
 "metadata": {
  "colab": {
   "authorship_tag": "ABX9TyM0yCMvFRBsa9QFkgBHoZOr",
   "mount_file_id": "1dHbj3wMDFj-0C2gdcQhonxzNOA5hRAMw",
   "provenance": []
  },
  "kernelspec": {
   "display_name": "Python 3 (ipykernel)",
   "language": "python",
   "name": "python3"
  },
  "language_info": {
   "codemirror_mode": {
    "name": "ipython",
    "version": 3
   },
   "file_extension": ".py",
   "mimetype": "text/x-python",
   "name": "python",
   "nbconvert_exporter": "python",
   "pygments_lexer": "ipython3",
   "version": "3.11.5"
  }
 },
 "nbformat": 4,
 "nbformat_minor": 1
}
