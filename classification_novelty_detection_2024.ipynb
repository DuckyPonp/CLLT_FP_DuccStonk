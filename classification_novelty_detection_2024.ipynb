{
 "cells": [
  {
   "cell_type": "markdown",
   "id": "ac2acecd",
   "metadata": {},
   "source": [
    "# Novelty Detection & Classification\n",
    "\n",
    "In this notebook, 200 2024 news with 50 from each industries serve as the testing data."
   ]
  },
  {
   "cell_type": "code",
   "execution_count": null,
   "id": "4455c2f7",
   "metadata": {},
   "outputs": [],
   "source": [
    "from dotenv import load_dotenv\n",
    "import os\n",
    "\n",
    "load_dotenv()\n",
    "os.environ[\"HUGGINGFACEHUB_API_TOKEN\"] = os.getenv(\"HUGGINGFACEHUB_API_TOKEN\")\n",
    "\n",
    "# 失敗的話會列印出：'沒讀到 HUGGINGFACEHUB_API key'\n",
    "os.environ[\"HUGGINGFACEHUB_API_TOKEN\"]"
   ]
  },
  {
   "cell_type": "markdown",
   "id": "d9b73ce2",
   "metadata": {},
   "source": [
    "## Read the Documents"
   ]
  },
  {
   "cell_type": "code",
   "execution_count": 2,
   "id": "13de9ea1",
   "metadata": {},
   "outputs": [],
   "source": [
    "from sklearn.metrics import confusion_matrix, classification_report, ConfusionMatrixDisplay\n",
    "import matplotlib.pyplot as plt\n",
    "\n",
    "doc_list = []\n",
    "y_novelty_true = [1] * 200  # all documents are not outliers\n",
    "y_classification_true = []\n",
    "\n",
    "for i in range(1, 51):\n",
    "    with open(f\"./News/2024/semiconductors/{i}.txt\", 'r', encoding='UTf-8') as file:\n",
    "        doc_list.append(file.read())\n",
    "        y_classification_true.append(1)  # semiconductors\n",
    "\n",
    "for i in range(1, 51):\n",
    "    with open(f\"./News/2024/industrial_automation/{i}.txt\", 'r', encoding='UTf-8') as file:\n",
    "        doc_list.append(file.read())\n",
    "        y_classification_true.append(2)  # industrial automation\n",
    "\n",
    "for i in range(1, 51):\n",
    "    with open(f\"./News/2024/ev/{i}.txt\", 'r', encoding='UTf-8') as file:\n",
    "        doc_list.append(file.read())\n",
    "        y_classification_true.append(3)  # ev\n",
    "\n",
    "for i in range(1, 51):\n",
    "    with open(f\"./News/2024/AI/{i}.txt\", 'r', encoding='UTf-8') as file:\n",
    "        doc_list.append(file.read())\n",
    "        y_classification_true.append(4)  # AI"
   ]
  },
  {
   "cell_type": "markdown",
   "id": "54bb4414",
   "metadata": {},
   "source": [
    "## Zero-Shot Novelty Detection with Output Re-Check"
   ]
  },
  {
   "cell_type": "code",
   "execution_count": 3,
   "id": "e2f3a205",
   "metadata": {},
   "outputs": [
    {
     "name": "stderr",
     "output_type": "stream",
     "text": [
      "C:\\Users\\ducky\\anaconda3\\Lib\\site-packages\\langchain_core\\_api\\deprecation.py:119: LangChainDeprecationWarning: The class `HuggingFaceEndpoint` was deprecated in LangChain 0.0.37 and will be removed in 0.3. An updated version of the class exists in the from langchain-huggingface package and should be used instead. To use it run `pip install -U from langchain-huggingface` and import as `from from langchain_huggingface import llms import HuggingFaceEndpoint`.\n",
      "  warn_deprecated(\n"
     ]
    },
    {
     "name": "stdout",
     "output_type": "stream",
     "text": [
      "The token has not been saved to the git credentials helper. Pass `add_to_git_credential=True` in this function directly or `--add-to-git-credential` if using via `huggingface-cli` if you want to set the git credential as well.\n",
      "Token is valid (permission: read).\n",
      "Your token has been saved to C:\\Users\\ducky\\.cache\\huggingface\\token\n",
      "Login successful\n"
     ]
    }
   ],
   "source": [
    "from langchain.llms import HuggingFaceEndpoint\n",
    "from langchain_core.prompts import ChatPromptTemplate\n",
    "from langchain_core.output_parsers import JsonOutputParser\n",
    "from langchain_core.pydantic_v1 import BaseModel, Field\n",
    "from tqdm import tqdm\n",
    "\n",
    "\n",
    "llm = HuggingFaceEndpoint(repo_id=\"mistralai/Mistral-7B-Instruct-v0.2\", max_new_tokens=4096, temperature=0.1)\n",
    "\n",
    "user_template = \"\"\"\n",
    "You are a professional business analyst. Please help me classify whether the following news delimited by <news> tags is relevant to the listed industries.\n",
    "The listed industries are semiconductors, industrial automation, electric vehicle, and AI.\n",
    "\n",
    "<news>\n",
    "{news}\n",
    "</news>\n",
    "\n",
    "The output format is as follows, in JSON.\n",
    "\n",
    "{{\"category\": <INTEGER_category>}}\n",
    "\n",
    "The <INTEGER_category> to choose from are 1 (yes, the news is relevant to semiconductors, industrial automation, electric vehicle, or AI) and 0 (no, the news is not relevant to the listed industries).\n",
    "Please output the category number ranging from 0 to 1, rather than the answer string.\n",
    "Each news must belong to EXACTLY one category.\n",
    "Please ONLY output the json and nothing else. You should strictly adhere to the output format!\n",
    "\n",
    "Below is an example of a valid output:\n",
    "{{\"category\": 0}}\n",
    "\"\"\"\n",
    "\n",
    "zeroshot_prompt = ChatPromptTemplate.from_messages([\n",
    "    (\"user\", user_template)\n",
    "])"
   ]
  },
  {
   "cell_type": "code",
   "execution_count": 4,
   "id": "e9d6059d",
   "metadata": {},
   "outputs": [],
   "source": [
    "class Category(BaseModel):\n",
    "    categoy: int = Field(description=\"the category number that the piece of news belongs to\")\n",
    "\n",
    "\n",
    "def get_json(text: str) -> str:\n",
    "    index_start = text.find('{\"')\n",
    "    index_end = text.find('}', index_start)\n",
    "    return text[index_start : (index_end + 1)]\n",
    "\n",
    "parser = JsonOutputParser(pydantic_object=Category)"
   ]
  },
  {
   "cell_type": "code",
   "execution_count": 5,
   "id": "d60906d7",
   "metadata": {},
   "outputs": [],
   "source": [
    "from langchain_core.prompts import ChatPromptTemplate\n",
    "\n",
    "user_failed_template = \"\"\"\n",
    "The output format is illegal! Please re-generate a correct output.\n",
    "\n",
    "The output format is as follows, in JSON.\n",
    "\n",
    "{{\"category\": <INTEGER_category>}}\n",
    "\n",
    "The <INTEGER_category> to choose from are 1 (yes, the news is relevant to semiconductors, industrial automation, electric vehicle, or AI) and 0 (no, the news is not relevant to the listed industries).\n",
    "Please output the category number ranging from 0 to 1, rather than the answer string.\n",
    "Each news must belong to EXACTLY one category.\n",
    "Please ONLY output the json and nothing else.\n",
    "\"\"\"\n",
    "\n",
    "zeroshot_failed_prompt = ChatPromptTemplate.from_messages([\n",
    "        (\"user\", user_template),\n",
    "        (\"ai\", \"{model_output}\"),\n",
    "        (\"user\", user_failed_template)\n",
    "    ])"
   ]
  },
  {
   "cell_type": "code",
   "execution_count": 6,
   "id": "9e98b309",
   "metadata": {
    "scrolled": false
   },
   "outputs": [
    {
     "name": "stdout",
     "output_type": "stream",
     "text": [
      "The token has not been saved to the git credentials helper. Pass `add_to_git_credential=True` in this function directly or `--add-to-git-credential` if using via `huggingface-cli` if you want to set the git credential as well.\n",
      "Token is valid (permission: read).\n",
      "Your token has been saved to C:\\Users\\ducky\\.cache\\huggingface\\token\n",
      "Login successful\n"
     ]
    },
    {
     "name": "stderr",
     "output_type": "stream",
     "text": [
      "100%|██████████| 200/200 [05:06<00:00,  1.53s/it]\n"
     ]
    },
    {
     "name": "stdout",
     "output_type": "stream",
     "text": [
      "Number of invalid classifications: 2\n",
      "Failed Outputs:\n",
      "['\\nBased on the news provided, the output would be:\\n{\"category\": 3}\\n\\nThis news is about the development of an electric vehicle, specifically the Chevrolet Camaro EV. Therefore, the category number for this news is 3, which corresponds to the electric vehicle industry.', '\\nBased on the provided news, the output would be:\\n{\"category\": 3}\\n\\nThis news is about the updated Kia EV6 electric vehicle. It mentions the new battery pack, which could potentially increase the range of the vehicle, as well as some interior updates and new features. However, there is no mention of semiconductors, industrial automation, or AI in the news. Therefore, the correct output is {\"category\": 3}, indicating that this news is relevant to the electric vehicle industry.']\n",
      "              precision    recall  f1-score   support\n",
      "\n",
      "          -1       0.00      0.00      0.00         0\n",
      "           0       0.00      0.00      0.00         0\n",
      "           1       1.00      0.84      0.92       200\n",
      "\n",
      "    accuracy                           0.84       200\n",
      "   macro avg       0.33      0.28      0.31       200\n",
      "weighted avg       1.00      0.84      0.92       200\n",
      "\n"
     ]
    },
    {
     "data": {
      "image/png": "[encoded data removed]",
      "text/plain": [
       "<Figure size 640x480 with 2 Axes>"
      ]
     },
     "metadata": {},
     "output_type": "display_data"
    }
   ],
   "source": [
    "y_pred = []\n",
    "failed_output = []\n",
    "\n",
    "for doc in tqdm(doc_list):\n",
    "    try:\n",
    "        llm_output_chain = zeroshot_prompt | llm\n",
    "        llm_output = llm_output_chain.invoke({\"news\": doc})\n",
    "        json_chain = get_json | parser\n",
    "        answer = json_chain.invoke(llm_output)\n",
    "        assert((0 <= answer[\"category\"] and answer[\"category\"] <= 1))\n",
    "        y_pred.append(answer[\"category\"])\n",
    "    except:\n",
    "        try:\n",
    "            llm_output_chain = zeroshot_failed_prompt | llm\n",
    "            llm_output = llm_output_chain.invoke({\"news\": doc, \"model_output\": llm_output})\n",
    "            json_chain = get_json | parser\n",
    "            answer = json_chain.invoke(llm_output)\n",
    "            assert((0 <= answer[\"category\"] and answer[\"category\"] <= 1))\n",
    "            y_pred.append(answer[\"category\"])\n",
    "        except:\n",
    "            y_pred.append(-1)\n",
    "            failed_output.append(llm_output)\n",
    "\n",
    "            \n",
    "print(\"Number of invalid classifications:\", y_pred.count(-1))\n",
    "print(\"Failed Outputs:\", failed_output, sep='\\n')\n",
    "\n",
    "print(classification_report(y_novelty_true, y_pred, zero_division=0.0))\n",
    "confusion_mat = ConfusionMatrixDisplay(confusion_matrix(y_novelty_true, y_pred))\n",
    "confusion_mat.plot()\n",
    "plt.show()"
   ]
  },
  {
   "cell_type": "markdown",
   "id": "359ec31c",
   "metadata": {},
   "source": [
    "## Zero-Shot Classification with Output Re-Check"
   ]
  },
  {
   "cell_type": "code",
   "execution_count": 7,
   "id": "33690c25",
   "metadata": {},
   "outputs": [],
   "source": [
    "user_template = \"\"\"\n",
    "You are a professional business analyst. Please help me classify by industry the following news delimited by <news> tags.\n",
    "The possible industries are semiconductors, industrial automation, electric vehicle, and AI.\n",
    "\n",
    "<news>\n",
    "{news}\n",
    "</news>\n",
    "\n",
    "The output format is as follows, in JSON.\n",
    "\n",
    "{{\"category\": <INTEGER_category>}}\n",
    "\n",
    "The <INTEGER_category> to choose from are semiconductors (category: 1), industrial automation (category: 2), eletric vehicle (category: 3), and AI (category: 4).\n",
    "Please output the category number ranging from 1 to 4, rather than the category name.\n",
    "Each news must belong to EXACTLY one category.\n",
    "Please ONLY output the json and nothing else. You should strictly adhere to the output format!\n",
    "\n",
    "Below is an example of a valid output:\n",
    "{{\"category\": 4}}\n",
    "\"\"\"\n",
    "\n",
    "\n",
    "user_failed_template = \"\"\"\n",
    "The output format is illegal! Please re-generate a correct output.\n",
    "\n",
    "The output format is as follows, in JSON.\n",
    "\n",
    "{{\"category\": <INTEGER_category>}}\n",
    "\n",
    "The <INTEGER_category> to choose from are semiconductors (category: 1), industrial automation (category: 2), eletric vehicle (category: 3), and AI (category: 4).\n",
    "Please output the category number ranging from 1 to 4, rather than the category name.\n",
    "Each news must belong to EXACTLY one category.\n",
    "Please ONLY output the json and nothing else. \n",
    "\"\"\""
   ]
  },
  {
   "cell_type": "code",
   "execution_count": 8,
   "id": "ee822811",
   "metadata": {},
   "outputs": [],
   "source": [
    "zeroshot_prompt = ChatPromptTemplate.from_messages([\n",
    "    (\"user\", user_template)\n",
    "])\n",
    "\n",
    "\n",
    "zeroshot_failed_prompt = ChatPromptTemplate.from_messages([\n",
    "        (\"user\", user_template),\n",
    "        (\"ai\", \"{model_output}\"),\n",
    "        (\"user\", user_failed_template)\n",
    "    ])"
   ]
  },
  {
   "cell_type": "code",
   "execution_count": 9,
   "id": "51b55cf9",
   "metadata": {},
   "outputs": [
    {
     "name": "stdout",
     "output_type": "stream",
     "text": [
      "The token has not been saved to the git credentials helper. Pass `add_to_git_credential=True` in this function directly or `--add-to-git-credential` if using via `huggingface-cli` if you want to set the git credential as well.\n",
      "Token is valid (permission: read).\n",
      "Your token has been saved to C:\\Users\\ducky\\.cache\\huggingface\\token\n",
      "Login successful\n"
     ]
    },
    {
     "name": "stderr",
     "output_type": "stream",
     "text": [
      "100%|██████████| 200/200 [12:24<00:00,  3.72s/it]\n"
     ]
    },
    {
     "name": "stdout",
     "output_type": "stream",
     "text": [
      "Number of invalid classifications: 0\n",
      "Failed Outputs:\n",
      "[]\n",
      "              precision    recall  f1-score   support\n",
      "\n",
      "           1       0.97      0.68      0.80        50\n",
      "           2       0.90      0.90      0.90        50\n",
      "           3       0.88      1.00      0.93        50\n",
      "           4       0.84      0.98      0.91        50\n",
      "\n",
      "    accuracy                           0.89       200\n",
      "   macro avg       0.90      0.89      0.89       200\n",
      "weighted avg       0.90      0.89      0.89       200\n",
      "\n"
     ]
    },
    {
     "data": {
      "image/png": "[encoded data removed]",
      "text/plain": [
       "<Figure size 640x480 with 2 Axes>"
      ]
     },
     "metadata": {},
     "output_type": "display_data"
    }
   ],
   "source": [
    "y_pred = []\n",
    "failed_output = []\n",
    "\n",
    "for doc in tqdm(doc_list):\n",
    "    try:\n",
    "        llm_output_chain = zeroshot_prompt | llm\n",
    "        llm_output = llm_output_chain.invoke({\"news\": doc})\n",
    "        json_chain = get_json | parser\n",
    "        answer = json_chain.invoke(llm_output)\n",
    "        assert((1 <= answer[\"category\"] and answer[\"category\"] <= 4))\n",
    "        y_pred.append(answer[\"category\"])\n",
    "    except:\n",
    "        try:\n",
    "            llm_output_chain = zeroshot_failed_prompt | llm\n",
    "            llm_output = llm_output_chain.invoke({\"news\": doc, \"model_output\": llm_output})\n",
    "            json_chain = get_json | parser\n",
    "            answer = json_chain.invoke(llm_output)\n",
    "            assert((1 <= answer[\"category\"] and answer[\"category\"] <= 4))\n",
    "            y_pred.append(answer[\"category\"])\n",
    "        except:\n",
    "            y_pred.append(0)\n",
    "            failed_output.append(llm_output)\n",
    "\n",
    "            \n",
    "print(\"Number of invalid classifications:\", y_pred.count(0))\n",
    "print(\"Failed Outputs:\", failed_output, sep='\\n')\n",
    "\n",
    "print(classification_report(y_classification_true, y_pred, zero_division=0.0))\n",
    "confusion_mat = ConfusionMatrixDisplay(confusion_matrix(y_classification_true, y_pred))\n",
    "confusion_mat.plot()\n",
    "plt.show()"
   ]
  }
 ],
 "metadata": {
  "kernelspec": {
   "display_name": "Python 3 (ipykernel)",
   "language": "python",
   "name": "python3"
  },
  "language_info": {
   "codemirror_mode": {
    "name": "ipython",
    "version": 3
   },
   "file_extension": ".py",
   "mimetype": "text/x-python",
   "name": "python",
   "nbconvert_exporter": "python",
   "pygments_lexer": "ipython3",
   "version": "3.11.5"
  }
 },
 "nbformat": 4,
 "nbformat_minor": 5
}
