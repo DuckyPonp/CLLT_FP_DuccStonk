{
 "cells": [
  {
   "cell_type": "code",
   "execution_count": null,
   "metadata": {
    "colab": {
     "base_uri": "https://localhost:8080/",
     "height": 53
    },
    "executionInfo": {
     "elapsed": 4396,
     "status": "ok",
     "timestamp": 1717530117533,
     "user": {
      "displayName": "DuckyPonp",
      "userId": "06157574813955125812"
     },
     "user_tz": -480
    },
    "id": "0tVOVKCJp91K",
    "outputId": "89e5f15f-017d-49b3-f81b-adac9d5d91c6"
   },
   "outputs": [],
   "source": [
    "from dotenv import load_dotenv\n",
    "import os\n",
    "\n",
    "load_dotenv()\n",
    "os.environ[\"HUGGINGFACEHUB_API_TOKEN\"] = os.getenv(\"HUGGINGFACEHUB_API_TOKEN\")\n",
    "\n",
    "# 失敗的話會列印出：'沒讀到 HUGGINGFACEHUB_API key'\n",
    "os.environ[\"HUGGINGFACEHUB_API_TOKEN\"]"
   ]
  },
  {
   "cell_type": "markdown",
   "metadata": {
    "id": "c1F-xqcxqKKS"
   },
   "source": [
    "## Read the Documents"
   ]
  },
  {
   "cell_type": "code",
   "execution_count": 2,
   "metadata": {
    "colab": {
     "base_uri": "https://localhost:8080/",
     "height": 214
    },
    "executionInfo": {
     "elapsed": 858,
     "status": "error",
     "timestamp": 1717530105184,
     "user": {
      "displayName": "DuckyPonp",
      "userId": "06157574813955125812"
     },
     "user_tz": -480
    },
    "id": "JSe27_s9rrGK",
    "outputId": "e0a0c8b2-ba1f-4b56-f434-f629b05fa333"
   },
   "outputs": [],
   "source": [
    "from sklearn.metrics import confusion_matrix, classification_report, ConfusionMatrixDisplay\n",
    "import matplotlib.pyplot as plt\n",
    "\n",
    "doc_list = []\n",
    "y_true = []\n",
    "\n",
    "for i in range(1, 26):\n",
    "    with open(f\"./News/external/semiconductors/{i}.txt\", 'r', encoding='UTf-8') as file:\n",
    "        doc_list.append(file.read())\n",
    "        y_true.append(1)  # semiconductors\n",
    "\n",
    "for i in range(1, 26):\n",
    "    with open(f\"./News/external/industrial_automation/{i}.txt\", 'r', encoding='UTf-8') as file:\n",
    "        doc_list.append(file.read())\n",
    "        y_true.append(1)  # industrial automation\n",
    "\n",
    "for i in range(1, 26):\n",
    "    with open(f\"./News/external/ev/{i}.txt\", 'r', encoding='UTf-8') as file:\n",
    "        doc_list.append(file.read())\n",
    "        y_true.append(1)  # ev\n",
    "\n",
    "for i in range(1, 26):\n",
    "    with open(f\"./News/external/AI/{i}.txt\", 'r', encoding='UTf-8') as file:\n",
    "        doc_list.append(file.read())\n",
    "        y_true.append(1)  # AI\n",
    "\n",
    "for i in range(1, 97):\n",
    "    with open(f\"./News/external/others/{i}.txt\", 'r', encoding='UTf-8') as file:\n",
    "        doc_list.append(file.read())\n",
    "        y_true.append(0)  # AI"
   ]
  },
  {
   "cell_type": "markdown",
   "metadata": {
    "id": "SjUXa5i0xf_h"
   },
   "source": [
    "## Zero-Shot Classification with Output Re-Check"
   ]
  },
  {
   "cell_type": "code",
   "execution_count": 3,
   "metadata": {
    "id": "7KrSk2Mbxtci"
   },
   "outputs": [
    {
     "name": "stderr",
     "output_type": "stream",
     "text": [
      "C:\\Users\\ducky\\anaconda3\\Lib\\site-packages\\langchain_core\\_api\\deprecation.py:119: LangChainDeprecationWarning: The class `HuggingFaceEndpoint` was deprecated in LangChain 0.0.37 and will be removed in 0.3. An updated version of the class exists in the from langchain-huggingface package and should be used instead. To use it run `pip install -U from langchain-huggingface` and import as `from from langchain_huggingface import llms import HuggingFaceEndpoint`.\n",
      "  warn_deprecated(\n"
     ]
    },
    {
     "name": "stdout",
     "output_type": "stream",
     "text": [
      "The token has not been saved to the git credentials helper. Pass `add_to_git_credential=True` in this function directly or `--add-to-git-credential` if using via `huggingface-cli` if you want to set the git credential as well.\n",
      "Token is valid (permission: read).\n",
      "Your token has been saved to C:\\Users\\ducky\\.cache\\huggingface\\token\n",
      "Login successful\n"
     ]
    }
   ],
   "source": [
    "from langchain.llms import HuggingFaceEndpoint\n",
    "from langchain_core.prompts import ChatPromptTemplate\n",
    "from langchain_core.output_parsers import JsonOutputParser\n",
    "from langchain_core.pydantic_v1 import BaseModel, Field\n",
    "from tqdm import tqdm\n",
    "\n",
    "\n",
    "llm = HuggingFaceEndpoint(repo_id=\"mistralai/Mistral-7B-Instruct-v0.2\", max_new_tokens=4096, temperature=0.1)\n",
    "\n",
    "user_template = \"\"\"\n",
    "You are a professional business analyst. Please help me classify whether the following news delimited by <news> tags is relevant to the listed industries.\n",
    "The listed industries are semiconductors, industrial automation, electric vehicle, and AI.\n",
    "\n",
    "<news>\n",
    "{news}\n",
    "</news>\n",
    "\n",
    "The output format is as follows, in JSON.\n",
    "\n",
    "{{\"category\": <INTEGER_category>}}\n",
    "\n",
    "The <INTEGER_category> to choose from are 1 (yes, the news is relevant to semiconductors, industrial automation, electric vehicle, or AI) and 0 (no, the news is not relevant to the listed industries).\n",
    "Please output the category number ranging from 0 to 1, rather than the answer string.\n",
    "Each news must belong to EXACTLY one category.\n",
    "Please ONLY output the json and nothing else. You should strictly adhere to the output format!\n",
    "\n",
    "Below is an example of a valid output:\n",
    "{{\"category\": 0}}\n",
    "\"\"\"\n",
    "\n",
    "zeroshot_prompt = ChatPromptTemplate.from_messages([\n",
    "    (\"user\", user_template)\n",
    "])"
   ]
  },
  {
   "cell_type": "code",
   "execution_count": 4,
   "metadata": {
    "id": "tfmc2l5Nz4Nv"
   },
   "outputs": [
    {
     "name": "stdout",
     "output_type": "stream",
     "text": [
      "\n",
      "Based on the provided news, the output should be:\n",
      "{\"category\": 1}\n",
      "\n",
      "This news is relevant to the industrial automation industry as it discusses the implementation of cybersecurity solutions in a manufacturing context, which is a key aspect of industrial automation. The semiconductor industry might also be indirectly involved as cybersecurity solutions often rely on semiconductor technology. The electric vehicle industry and AI are not directly mentioned in the news.\n"
     ]
    }
   ],
   "source": [
    "zeroshot_chain = zeroshot_prompt | llm\n",
    "\n",
    "test_news = doc_list[45]\n",
    "test_answer = zeroshot_chain.invoke({\"news\": test_news})\n",
    "print(test_answer)"
   ]
  },
  {
   "cell_type": "code",
   "execution_count": 5,
   "metadata": {
    "scrolled": false
   },
   "outputs": [
    {
     "name": "stdout",
     "output_type": "stream",
     "text": [
      "{'category': 1}\n"
     ]
    }
   ],
   "source": [
    "class Category(BaseModel):\n",
    "    categoy: int = Field(description=\"the category number that the piece of news belongs to\")\n",
    "\n",
    "\n",
    "def get_json(text: str) -> str:\n",
    "    index_start = text.find('{\"')\n",
    "    index_end = text.find('}', index_start)\n",
    "    return text[index_start : (index_end + 1)]\n",
    "        \n",
    "\n",
    "parser = JsonOutputParser(pydantic_object=Category)\n",
    "zeroshot_chain = zeroshot_prompt | llm | get_json | parser\n",
    "\n",
    "test_news = doc_list[45]\n",
    "test_answer = zeroshot_chain.invoke({\"news\": test_news})\n",
    "print(test_answer)"
   ]
  },
  {
   "cell_type": "code",
   "execution_count": 6,
   "metadata": {},
   "outputs": [],
   "source": [
    "from langchain_core.prompts import ChatPromptTemplate\n",
    "\n",
    "user_failed_template = \"\"\"\n",
    "The output format is illegal! Please re-generate a correct output.\n",
    "\n",
    "The output format is as follows, in JSON.\n",
    "\n",
    "{{\"category\": <INTEGER_category>}}\n",
    "\n",
    "The <INTEGER_category> to choose from are 1 (yes, the news is relevant to semiconductors, industrial automation, electric vehicle, or AI) and 0 (no, the news is not relevant to the listed industries).\n",
    "Please output the category number ranging from 0 to 1, rather than the answer string.\n",
    "Each news must belong to EXACTLY one category.\n",
    "Please ONLY output the json and nothing else.\n",
    "\"\"\"\n",
    "\n",
    "\n",
    "zeroshot_failed_prompt = ChatPromptTemplate.from_messages([\n",
    "        (\"user\", user_template),\n",
    "        (\"ai\", \"{model_output}\"),\n",
    "        (\"user\", user_failed_template)\n",
    "    ])"
   ]
  },
  {
   "cell_type": "code",
   "execution_count": 7,
   "metadata": {},
   "outputs": [
    {
     "name": "stderr",
     "output_type": "stream",
     "text": [
      "100%|██████████| 196/196 [01:04<00:00,  3.02it/s]"
     ]
    },
    {
     "name": "stdout",
     "output_type": "stream",
     "text": [
      "Number of invalid classifications: 0\n",
      "Failed Outputs:\n",
      "[]\n",
      "              precision    recall  f1-score   support\n",
      "\n",
      "           0       0.86      0.84      0.85        96\n",
      "           1       0.85      0.87      0.86       100\n",
      "\n",
      "    accuracy                           0.86       196\n",
      "   macro avg       0.86      0.86      0.86       196\n",
      "weighted avg       0.86      0.86      0.86       196\n",
      "\n"
     ]
    },
    {
     "name": "stderr",
     "output_type": "stream",
     "text": [
      "\n"
     ]
    },
    {
     "data": {
      "image/png": "[encoded data removed]",
      "text/plain": [
       "<Figure size 640x480 with 2 Axes>"
      ]
     },
     "metadata": {},
     "output_type": "display_data"
    }
   ],
   "source": [
    "y_pred = []\n",
    "failed_output = []\n",
    "\n",
    "for doc in tqdm(doc_list):\n",
    "    try:\n",
    "        llm_output_chain = zeroshot_prompt | llm\n",
    "        llm_output = llm_output_chain.invoke({\"news\": doc})\n",
    "        json_chain = get_json | parser\n",
    "        answer = json_chain.invoke(llm_output)\n",
    "        assert((0 <= answer[\"category\"] and answer[\"category\"] <= 1))\n",
    "        y_pred.append(answer[\"category\"])\n",
    "    except:\n",
    "        try:\n",
    "            llm_output_chain = zeroshot_failed_prompt | llm\n",
    "            llm_output = llm_output_chain.invoke({\"news\": doc, \"model_output\": llm_output})\n",
    "            json_chain = get_json | parser\n",
    "            answer = json_chain.invoke(llm_output)\n",
    "            assert((0 <= answer[\"category\"] and answer[\"category\"] <= 1))\n",
    "            y_pred.append(answer[\"category\"])\n",
    "        except:\n",
    "            y_pred.append(-1)\n",
    "            failed_output.append(llm_output)\n",
    "\n",
    "            \n",
    "print(\"Number of invalid classifications:\", y_pred.count(-1))\n",
    "print(\"Failed Outputs:\", failed_output, sep='\\n')\n",
    "\n",
    "print(classification_report(y_true, y_pred, zero_division=0.0))\n",
    "confusion_mat = ConfusionMatrixDisplay(confusion_matrix(y_true, y_pred))\n",
    "confusion_mat.plot()\n",
    "plt.show()"
   ]
  }
 ],
 "metadata": {
  "colab": {
   "authorship_tag": "ABX9TyM0yCMvFRBsa9QFkgBHoZOr",
   "mount_file_id": "1dHbj3wMDFj-0C2gdcQhonxzNOA5hRAMw",
   "provenance": []
  },
  "kernelspec": {
   "display_name": "Python 3 (ipykernel)",
   "language": "python",
   "name": "python3"
  },
  "language_info": {
   "codemirror_mode": {
    "name": "ipython",
    "version": 3
   },
   "file_extension": ".py",
   "mimetype": "text/x-python",
   "name": "python",
   "nbconvert_exporter": "python",
   "pygments_lexer": "ipython3",
   "version": "3.11.5"
  }
 },
 "nbformat": 4,
 "nbformat_minor": 1
}
